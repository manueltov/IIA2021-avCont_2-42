{
 "cells": [
  {
   "cell_type": "markdown",
   "metadata": {},
   "source": [
    "## Problemas de satisfação de restrições\n",
    "## Avaliação Contínua 2\n",
    "### IIA 2020/2021\n"
   ]
  },
  {
   "cell_type": "markdown",
   "metadata": {},
   "source": [
    "Imagine que pretende colorir o seguinte grafo com três cores (vermelho (R), azul (B) e verde (G)) de forma a que nós adjacentes não podem ser coloridos com a mesma cor.\n",
    "\n",
    "<img src=\"grafo2.png\" alt=\"Drawing\" style=\"width: 300px;\"/>\n",
    "\n",
    "Recorde das aulas de laboratório que a resolução de um CSP tem dois passos:\n",
    "1. Formulação do problema (definir variáveis, domínios, restrições)\n",
    "2. Resolução do problema (usar algoritmo de procura)\n",
    "\n",
    "Nesta avaliação contínua pretende-se que os alunos definam duas heuristicas diferentes da que se encontra no guião da aula de laboratório (a heurística de variável mais restringida - mrv) para resolver este problema, nomeadamente \n",
    "* a heuristica de grau, ou seja, escolher a variável envolvida em mais restrições com variáveis ainda livres\n",
    "* a mrv que usa a heuristica de grau para desempatar variáveis a afectar\n",
    "\n",
    "Vamos então formular este problema:"
   ]
  },
  {
   "cell_type": "code",
   "execution_count": 536,
   "metadata": {},
   "outputs": [],
   "source": [
    "from csp_v2 import *"
   ]
  },
  {
   "cell_type": "code",
   "execution_count": 537,
   "metadata": {},
   "outputs": [],
   "source": [
    "# variaveis\n",
    "variaveis = ['P1','P2','P3','P4','P5','P6']\n",
    "# dominios\n",
    "dominios = {}\n",
    "for v in variaveis:\n",
    "    dominios[v] = ['R','B','G']\n",
    "dominios['P1'] = ['R','G']\n",
    "dominios['P6'] = ['R','B']\n",
    "# vizinhos\n",
    "vizinhos = parse_neighbors('P1: P2 P3; P2: P3 P4 P5; P3: P5 P6; P4: P5 P6')"
   ]
  },
  {
   "cell_type": "markdown",
   "metadata": {},
   "source": [
    "A função que verifica a satisfação de restrições entre duas variáveis afectadas é a ***different_values_constraint()*** definida em *csp_v2.py*, que verifica se duas variáveis vizinhas têm valores diferentes entre si.\n",
    "\n",
    "```python\n",
    "    def different_values_constraint(A, a, B, b):\n",
    "        \"\"\"A constraint saying two neighboring variables must differ in value.\"\"\"\n",
    "        return a != b\n",
    "```"
   ]
  },
  {
   "cell_type": "code",
   "execution_count": 538,
   "metadata": {},
   "outputs": [],
   "source": [
    "p = CSP(variaveis, dominios, vizinhos, different_values_constraint)"
   ]
  },
  {
   "cell_type": "markdown",
   "metadata": {},
   "source": [
    "Vamos ler os atributos do objeto criado:"
   ]
  },
  {
   "cell_type": "code",
   "execution_count": 539,
   "metadata": {},
   "outputs": [
    {
     "name": "stdout",
     "output_type": "stream",
     "text": [
      "Variáveis =  ['P1', 'P2', 'P3', 'P4', 'P5', 'P6']\n",
      "Domínios =  {'P1': ['R', 'G'], 'P2': ['R', 'B', 'G'], 'P3': ['R', 'B', 'G'], 'P4': ['R', 'B', 'G'], 'P5': ['R', 'B', 'G'], 'P6': ['R', 'B']}\n",
      "Vizinhos =  defaultdict(<class 'list'>, {'P1': ['P2', 'P3'], 'P2': ['P1', 'P3', 'P4', 'P5'], 'P3': ['P1', 'P2', 'P5', 'P6'], 'P4': ['P2', 'P5', 'P6'], 'P5': ['P2', 'P3', 'P4'], 'P6': ['P3', 'P4']})\n",
      "Restrições <function different_values_constraint at 0x102954598>\n"
     ]
    }
   ],
   "source": [
    "print(\"Variáveis = \", p.variables)\n",
    "print(\"Domínios = \", p.domains)\n",
    "print(\"Vizinhos = \", p.neighbors)\n",
    "print(\"Restrições\", p.constraints)"
   ]
  },
  {
   "cell_type": "markdown",
   "metadata": {},
   "source": [
    "Vamos agora aplicar a heuristica MRV e inferência **forward-checking** no backtracking-search e ativemos o modo verbose para analisar a afetação:"
   ]
  },
  {
   "cell_type": "code",
   "execution_count": 540,
   "metadata": {},
   "outputs": [
    {
     "name": "stdout",
     "output_type": "stream",
     "text": [
      "Curr_domains: None\n",
      "Current assignment: {}\n",
      "Next selected Var = P1\n",
      "Sorted domain left ['R', 'G']\n",
      "--Test  P1 R\n",
      "---UAU No Conflicts with already assigned variables!\n",
      "----Forward-checking\n",
      "----Domains before {'P1': ['R'], 'P2': ['R', 'B', 'G'], 'P3': ['R', 'B', 'G'], 'P4': ['R', 'B', 'G'], 'P5': ['R', 'B', 'G'], 'P6': ['R', 'B']}\n",
      "----Domains after {'P1': ['R'], 'P2': ['B', 'G'], 'P3': ['B', 'G'], 'P4': ['R', 'B', 'G'], 'P5': ['R', 'B', 'G'], 'P6': ['R', 'B']}\n",
      "---Assigned!\n",
      "Curr_domains: {'P1': ['R'], 'P2': ['B', 'G'], 'P3': ['B', 'G'], 'P4': ['R', 'B', 'G'], 'P5': ['R', 'B', 'G'], 'P6': ['R', 'B']}\n",
      "Current assignment: {'P1': 'R'}\n",
      "Next selected Var = P6\n",
      "Sorted domain left ['R', 'B']\n",
      "--Test  P6 R\n",
      "---UAU No Conflicts with already assigned variables!\n",
      "----Forward-checking\n",
      "----Domains before {'P1': ['R'], 'P2': ['B', 'G'], 'P3': ['B', 'G'], 'P4': ['R', 'B', 'G'], 'P5': ['R', 'B', 'G'], 'P6': ['R']}\n",
      "----Domains after {'P1': ['R'], 'P2': ['B', 'G'], 'P3': ['B', 'G'], 'P4': ['B', 'G'], 'P5': ['R', 'B', 'G'], 'P6': ['R']}\n",
      "---Assigned!\n",
      "Curr_domains: {'P1': ['R'], 'P2': ['B', 'G'], 'P3': ['B', 'G'], 'P4': ['B', 'G'], 'P5': ['R', 'B', 'G'], 'P6': ['R']}\n",
      "Current assignment: {'P1': 'R', 'P6': 'R'}\n",
      "Next selected Var = P3\n",
      "Sorted domain left ['B', 'G']\n",
      "--Test  P3 B\n",
      "---UAU No Conflicts with already assigned variables!\n",
      "----Forward-checking\n",
      "----Domains before {'P1': ['R'], 'P2': ['B', 'G'], 'P3': ['B'], 'P4': ['B', 'G'], 'P5': ['R', 'B', 'G'], 'P6': ['R']}\n",
      "----Domains after {'P1': ['R'], 'P2': ['G'], 'P3': ['B'], 'P4': ['B', 'G'], 'P5': ['R', 'G'], 'P6': ['R']}\n",
      "---Assigned!\n",
      "Curr_domains: {'P1': ['R'], 'P2': ['G'], 'P3': ['B'], 'P4': ['B', 'G'], 'P5': ['R', 'G'], 'P6': ['R']}\n",
      "Current assignment: {'P1': 'R', 'P6': 'R', 'P3': 'B'}\n",
      "Next selected Var = P2\n",
      "Sorted domain left ['G']\n",
      "--Test  P2 G\n",
      "---UAU No Conflicts with already assigned variables!\n",
      "----Forward-checking\n",
      "----Domains before {'P1': ['R'], 'P2': ['G'], 'P3': ['B'], 'P4': ['B', 'G'], 'P5': ['R', 'G'], 'P6': ['R']}\n",
      "----Domains after {'P1': ['R'], 'P2': ['G'], 'P3': ['B'], 'P4': ['B'], 'P5': ['R'], 'P6': ['R']}\n",
      "---Assigned!\n",
      "Curr_domains: {'P1': ['R'], 'P2': ['G'], 'P3': ['B'], 'P4': ['B'], 'P5': ['R'], 'P6': ['R']}\n",
      "Current assignment: {'P1': 'R', 'P6': 'R', 'P3': 'B', 'P2': 'G'}\n",
      "Next selected Var = P4\n",
      "Sorted domain left ['B']\n",
      "--Test  P4 B\n",
      "---UAU No Conflicts with already assigned variables!\n",
      "----Forward-checking\n",
      "----Domains before {'P1': ['R'], 'P2': ['G'], 'P3': ['B'], 'P4': ['B'], 'P5': ['R'], 'P6': ['R']}\n",
      "----Domains after {'P1': ['R'], 'P2': ['G'], 'P3': ['B'], 'P4': ['B'], 'P5': ['R'], 'P6': ['R']}\n",
      "---Assigned!\n",
      "Curr_domains: {'P1': ['R'], 'P2': ['G'], 'P3': ['B'], 'P4': ['B'], 'P5': ['R'], 'P6': ['R']}\n",
      "Current assignment: {'P1': 'R', 'P6': 'R', 'P3': 'B', 'P2': 'G', 'P4': 'B'}\n",
      "Next selected Var = P5\n",
      "Sorted domain left ['R']\n",
      "--Test  P5 R\n",
      "---UAU No Conflicts with already assigned variables!\n",
      "----Forward-checking\n",
      "----Domains before {'P1': ['R'], 'P2': ['G'], 'P3': ['B'], 'P4': ['B'], 'P5': ['R'], 'P6': ['R']}\n",
      "----Domains after {'P1': ['R'], 'P2': ['G'], 'P3': ['B'], 'P4': ['B'], 'P5': ['R'], 'P6': ['R']}\n",
      "---Assigned!\n"
     ]
    }
   ],
   "source": [
    "p = CSP(variaveis, dominios, vizinhos, different_values_constraint)\n",
    "r = backtracking_search(p, select_unassigned_variable=mrv, inference=forward_checking, verbose=True)"
   ]
  },
  {
   "cell_type": "markdown",
   "metadata": {},
   "source": [
    "Apliquemos o algoritmo com a heuristica mrv algumas vezes:"
   ]
  },
  {
   "cell_type": "code",
   "execution_count": 541,
   "metadata": {},
   "outputs": [
    {
     "name": "stdout",
     "output_type": "stream",
     "text": [
      "Assignment =  {'P1': 'R', 'P6': 'R', 'P4': 'B', 'P2': 'G', 'P3': 'B', 'P5': 'R'}\n",
      "Assignment =  {'P1': 'R', 'P2': 'B', 'P3': 'G', 'P5': 'R', 'P4': 'G', 'P6': 'R'}\n",
      "Assignment =  {'P6': 'R', 'P3': 'B', 'P1': 'R', 'P2': 'G', 'P5': 'R', 'P4': 'B'}\n",
      "Assignment =  {'P6': 'R', 'P4': 'B', 'P2': 'R', 'P1': 'G', 'P3': 'B', 'P5': 'G'}\n",
      "Assignment =  {'P1': 'R', 'P6': 'R', 'P4': 'B', 'P2': 'G', 'P5': 'R', 'P3': 'B'}\n",
      "Assignment =  {'P1': 'R', 'P3': 'B', 'P6': 'R', 'P2': 'G', 'P4': 'B', 'P5': 'R'}\n",
      "Assignment =  {'P1': 'R', 'P3': 'B', 'P2': 'G', 'P5': 'R', 'P4': 'B', 'P6': 'R'}\n",
      "Assignment =  {'P1': 'R', 'P2': 'B', 'P3': 'G', 'P5': 'R', 'P4': 'G', 'P6': 'R'}\n",
      "Assignment =  {'P6': 'R', 'P4': 'B', 'P5': 'R', 'P2': 'G', 'P3': 'B', 'P1': 'R'}\n",
      "Assignment =  {'P6': 'R', 'P4': 'B', 'P3': 'B', 'P1': 'R', 'P2': 'G', 'P5': 'R'}\n",
      "Assignment =  {'P6': 'R', 'P4': 'B', 'P5': 'R', 'P2': 'G', 'P1': 'R', 'P3': 'B'}\n",
      "Assignment =  {'P1': 'R', 'P6': 'R', 'P2': 'B', 'P3': 'G', 'P5': 'R', 'P4': 'G'}\n",
      "Assignment =  {'P6': 'R', 'P3': 'B', 'P4': 'B', 'P1': 'R', 'P2': 'G', 'P5': 'R'}\n",
      "Assignment =  {'P6': 'R', 'P1': 'R', 'P4': 'B', 'P2': 'G', 'P5': 'R', 'P3': 'B'}\n",
      "Assignment =  {'P1': 'R', 'P3': 'B', 'P6': 'R', 'P2': 'G', 'P5': 'R', 'P4': 'B'}\n",
      "Assignment =  {'P1': 'R', 'P6': 'R', 'P3': 'B', 'P2': 'G', 'P4': 'B', 'P5': 'R'}\n",
      "Assignment =  {'P6': 'R', 'P4': 'B', 'P3': 'B', 'P1': 'R', 'P2': 'G', 'P5': 'R'}\n",
      "Assignment =  {'P6': 'R', 'P3': 'B', 'P5': 'R', 'P2': 'G', 'P1': 'R', 'P4': 'B'}\n",
      "Assignment =  {'P1': 'R', 'P6': 'R', 'P3': 'B', 'P2': 'G', 'P4': 'B', 'P5': 'R'}\n",
      "Assignment =  {'P6': 'R', 'P3': 'B', 'P5': 'R', 'P2': 'G', 'P4': 'B', 'P1': 'R'}\n"
     ]
    }
   ],
   "source": [
    "for i in range(20):\n",
    "    p = CSP(variaveis, dominios, vizinhos, different_values_constraint)\n",
    "    r = backtracking_search(p, select_unassigned_variable=mrv, inference=forward_checking)\n",
    "    print('Assignment = ',r)"
   ]
  },
  {
   "cell_type": "markdown",
   "metadata": {},
   "source": [
    "Como se pode verificar a ordem de afectação da primeira variável é diferente, pois existe empate entre a variável P1 e P6."
   ]
  },
  {
   "cell_type": "markdown",
   "metadata": {},
   "source": [
    "## Exercício 1\n",
    "Cria uma heuristica de grau e aplique na resolução do problema. **Nota:** não precisa de verificar se existem empates, mantenha a ordem original das variáveis.\n",
    "\n",
    "Cria a função\n",
    "```python\n",
    "def h(assignment, csp):\n",
    "    pass\n",
    "```\n",
    "onde `assignment` corresponde ao assignment atual e `csp` a variável com o CSP. Teste-a neste problema usando o algoritmo `backtracking_search` com inferência `forward_checking`.  Pode testar a sua função noutras formulações das aulas."
   ]
  },
  {
   "cell_type": "code",
   "execution_count": 542,
   "metadata": {},
   "outputs": [],
   "source": [
    "# Resolução do problema\n",
    "def h(assignment, csp):\n",
    "    list_ind_neighbour_len = list()\n",
    "    \n",
    "    for index, l in enumerate(csp.neighbors.items()):\n",
    "        if (l[0] in assignment) is False:\n",
    "            neighbors_len = len(l[1])\n",
    "            for assigned in assignment:\n",
    "                for neighbor in l[1]:\n",
    "                    if neighbor in assigned:\n",
    "                        neighbors_len = neighbors_len-1\n",
    "            list_ind_neighbour_len.append((index, neighbors_len))\n",
    "\n",
    "    max_neighbour = max(list_ind_neighbour_len, key = lambda i : i[1])[1]\n",
    "    max_index_neighbour_len = [t[0] for t in list_ind_neighbour_len if t[1] == max_neighbour]\n",
    "    nodes = [list(csp.neighbors)[index] for index in max_index_neighbour_len]\n",
    "    \n",
    "    return nodes[0]"
   ]
  },
  {
   "cell_type": "code",
   "execution_count": 543,
   "metadata": {},
   "outputs": [
    {
     "name": "stdout",
     "output_type": "stream",
     "text": [
      "{'P2': 'R', 'P3': 'B', 'P4': 'B', 'P1': 'G', 'P5': 'G', 'P6': 'R'}\n"
     ]
    }
   ],
   "source": [
    "p = CSP(variaveis, dominios, vizinhos, different_values_constraint)\n",
    "r = backtracking_search(p, select_unassigned_variable=h, inference=forward_checking, verbose=False)\n",
    "print(r)"
   ]
  },
  {
   "cell_type": "markdown",
   "metadata": {},
   "source": [
    "## Exercício 2\n",
    "Desenvolva uma heuristica `mrv2` que em caso de empate utilize a heuristica de grau para escolher a variável a afectar e aplique na resolução do problema.\n",
    "Cria a função\n",
    "```python\n",
    "def mrv2(assignment, csp):\n",
    "    pass\n",
    "```\n",
    "onde `assignment` corresponde ao assignment atual e `csp` a variável com o CSP. Teste-a neste problema usando o algoritmo `backtracking_search` com inferência `forward_checking`. Pode testar a sua função noutras formulações das aulas."
   ]
  },
  {
   "cell_type": "code",
   "execution_count": 544,
   "metadata": {},
   "outputs": [],
   "source": [
    "# Resolução do exercicio\n",
    "def mrv2(assignment, csp):\n",
    "    list_ind_domains_len = list()\n",
    "    \n",
    "    for index, l in enumerate(csp.domains.items()):\n",
    "        if (l[0] in assignment) is False:\n",
    "            domains_len = len(l[1])\n",
    "            \n",
    "            if csp.curr_domains:\n",
    "                for node, colors in csp.curr_domains.items():\n",
    "                    if node == l[0]:\n",
    "                        domains_len = len(colors)\n",
    "                        \n",
    "            list_ind_domains_len.append((index, domains_len))\n",
    "    \n",
    "    min_domain_color_len = min(list_ind_domains_len, key = lambda i : i[1])[1]\n",
    "    min_index_domain_len = [t[0] for t in list_ind_domains_len if t[1] == min_domain_color_len]\n",
    "    nodes = [list(csp.domains)[index] for index in min_index_domain_len]\n",
    "\n",
    "    if len(nodes) > 1:\n",
    "        p2 = createCsp(nodes, csp)\n",
    "        result = h(assignment,p2)\n",
    "    else:\n",
    "        result = nodes[0]\n",
    "\n",
    "    return result\n",
    "\n",
    "def createCsp(min_index_domain_len,csp):\n",
    "    new_domains = {}\n",
    "    new_neighbors = {}\n",
    "    for var in min_index_domain_len:\n",
    "        if var in csp.domains:\n",
    "            new_domains[var] = csp.domains.get(var)\n",
    "        if var in csp.neighbors:\n",
    "            new_neighbors[var] = (csp.neighbors.get(var))\n",
    "            \n",
    "    return CSP(min_index_domain_len,new_domains,new_neighbors, different_values_constraint)"
   ]
  },
  {
   "cell_type": "code",
   "execution_count": 545,
   "metadata": {},
   "outputs": [
    {
     "name": "stdout",
     "output_type": "stream",
     "text": [
      "{'P1': 'R', 'P2': 'B', 'P3': 'G', 'P5': 'R', 'P4': 'G', 'P6': 'R'}\n"
     ]
    }
   ],
   "source": [
    "p = CSP(variaveis, dominios, vizinhos, different_values_constraint)\n",
    "r = backtracking_search(p, select_unassigned_variable=mrv2, inference=forward_checking, verbose=False)\n",
    "print(r)"
   ]
  },
  {
   "cell_type": "markdown",
   "metadata": {},
   "source": [
    "### Prazo de entrega\n",
    "\n",
    "Final do semestre, último dia de aulas às 23h59.\n",
    "\n",
    "### Submissão\n",
    "\n",
    "A informação sobre o processo de submissão sairá muito em breve."
   ]
  },
  {
   "cell_type": "code",
   "execution_count": null,
   "metadata": {},
   "outputs": [],
   "source": []
  },
  {
   "cell_type": "code",
   "execution_count": null,
   "metadata": {},
   "outputs": [],
   "source": []
  }
 ],
 "metadata": {
  "kernelspec": {
   "display_name": "Python 3",
   "language": "python",
   "name": "python3"
  },
  "language_info": {
   "codemirror_mode": {
    "name": "ipython",
    "version": 3
   },
   "file_extension": ".py",
   "mimetype": "text/x-python",
   "name": "python",
   "nbconvert_exporter": "python",
   "pygments_lexer": "ipython3",
   "version": "3.7.3"
  }
 },
 "nbformat": 4,
 "nbformat_minor": 4
}
