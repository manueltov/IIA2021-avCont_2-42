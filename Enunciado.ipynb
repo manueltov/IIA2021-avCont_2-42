{
 "cells": [
  {
   "cell_type": "markdown",
   "metadata": {},
   "source": [
    "## Problemas de satisfação de restrições\n",
    "## Avaliação Contínua 2\n",
    "### IIA 2020/2021\n"
   ]
  },
  {
   "cell_type": "markdown",
   "metadata": {},
   "source": [
    "Imagine que pretende colorir o seguinte grafo com três cores (vermelho (R), azul (B) e verde (G)) de forma a que nós adjacentes não podem ser coloridos com a mesma cor.\n",
    "\n",
    "<img src=\"grafo2.png\" alt=\"Drawing\" style=\"width: 300px;\"/>\n",
    "\n",
    "Recorde das aulas de laboratório que a resolução de um CSP tem dois passos:\n",
    "1. Formulação do problema (definir variáveis, domínios, restrições)\n",
    "2. Resolução do problema (usar algoritmo de procura)\n",
    "\n",
    "Nesta avaliação contínua pretende-se que os alunos definam duas heuristicas diferentes da que se encontra no guião da aula de laboratório (a heurística de variável mais restringida - mrv) para resolver este problema, nomeadamente \n",
    "* a heuristica de grau, ou seja, escolher a variável envolvida em mais restrições com variáveis ainda livres\n",
    "* a mrv que usa a heuristica de grau para desempatar variáveis a afectar\n",
    "\n",
    "Vamos então formular este problema:"
   ]
  },
  {
   "cell_type": "code",
   "execution_count": null,
   "metadata": {},
   "outputs": [],
   "source": [
    "from csp_v2 import *"
   ]
  },
  {
   "cell_type": "code",
   "execution_count": null,
   "metadata": {},
   "outputs": [],
   "source": [
    "# variaveis\n",
    "variaveis = ['P1','P2','P3','P4','P5','P6']\n",
    "# dominios\n",
    "dominios = {}\n",
    "for v in variaveis:\n",
    "    dominios[v] = ['R','B','G']\n",
    "dominios['P1'] = ['R','G']\n",
    "dominios['P6'] = ['R','B']\n",
    "# vizinhos\n",
    "vizinhos = parse_neighbors('P1: P2 P3; P2: P3 P4 P5; P3: P5 P6; P4: P5 P6')"
   ]
  },
  {
   "cell_type": "markdown",
   "metadata": {},
   "source": [
    "A função que verifica a satisfação de restrições entre duas variáveis afectadas é a ***different_values_constraint()*** definida em *csp_v2.py*, que verifica se duas variáveis vizinhas têm valores diferentes entre si.\n",
    "\n",
    "```python\n",
    "    def different_values_constraint(A, a, B, b):\n",
    "        \"\"\"A constraint saying two neighboring variables must differ in value.\"\"\"\n",
    "        return a != b\n",
    "```"
   ]
  },
  {
   "cell_type": "code",
   "execution_count": null,
   "metadata": {},
   "outputs": [],
   "source": [
    "p = CSP(variaveis, dominios, vizinhos, different_values_constraint)"
   ]
  },
  {
   "cell_type": "markdown",
   "metadata": {},
   "source": [
    "Vamos ler os atributos do objeto criado:"
   ]
  },
  {
   "cell_type": "code",
   "execution_count": null,
   "metadata": {},
   "outputs": [],
   "source": [
    "print(\"Variáveis = \", p.variables)\n",
    "print(\"Domínios = \", p.domains)\n",
    "print(\"Vizinhos = \", p.neighbors)\n",
    "print(\"Restrições\", p.constraints)"
   ]
  },
  {
   "cell_type": "markdown",
   "metadata": {},
   "source": [
    "Vamos agora aplicar a heuristica MRV e inferência **forward-checking** no backtracking-search e ativemos o modo verbose para analisar a afetação:"
   ]
  },
  {
   "cell_type": "code",
   "execution_count": null,
   "metadata": {},
   "outputs": [],
   "source": [
    "p = CSP(variaveis, dominios, vizinhos, different_values_constraint)\n",
    "r = backtracking_search(p, select_unassigned_variable=mrv, inference=forward_checking, verbose=True)"
   ]
  },
  {
   "cell_type": "markdown",
   "metadata": {},
   "source": [
    "Apliquemos o algoritmo com a heuristica mrv algumas vezes:"
   ]
  },
  {
   "cell_type": "code",
   "execution_count": null,
   "metadata": {},
   "outputs": [],
   "source": [
    "for i in range(20):\n",
    "    p = CSP(variaveis, dominios, vizinhos, different_values_constraint)\n",
    "    r = backtracking_search(p, select_unassigned_variable=mrv, inference=forward_checking)\n",
    "    print('Assignment = ',r)"
   ]
  },
  {
   "cell_type": "markdown",
   "metadata": {},
   "source": [
    "Como se pode verificar a ordem de afectação da primeira variável é diferente, pois existe empate entre a variável P1 e P6."
   ]
  },
  {
   "cell_type": "markdown",
   "metadata": {},
   "source": [
    "## Exercício 1\n",
    "Cria uma heuristica de grau e aplique na resolução do problema. **Nota:** não precisa de verificar se existem empates, mantenha a ordem original das variáveis.\n",
    "\n",
    "Cria a função\n",
    "```python\n",
    "def h(assignment, csp):\n",
    "    pass\n",
    "```\n",
    "onde `assignment` corresponde ao assignment atual e `csp` a variável com o CSP. Teste-a neste problema usando o algoritmo `backtracking_search` com inferência `forward_checking`.  Pode testar a sua função noutras formulações das aulas."
   ]
  },
  {
   "cell_type": "code",
   "execution_count": null,
   "metadata": {},
   "outputs": [],
   "source": [
    "# Resolução do problema\n",
    "\n"
   ]
  },
  {
   "cell_type": "code",
   "execution_count": null,
   "metadata": {},
   "outputs": [],
   "source": [
    "p = CSP(variaveis, dominios, vizinhos, different_values_constraint)\n",
    "r = backtracking_search(p, select_unassigned_variable=h, inference=forward_checking, verbose=True)"
   ]
  },
  {
   "cell_type": "markdown",
   "metadata": {},
   "source": [
    "## Exercício 2\n",
    "Desenvolva uma heuristica `mrv2` que em caso de empate utilize a heuristica de grau para escolher a variável a afectar e aplique na resolução do problema.\n",
    "Cria a função\n",
    "```python\n",
    "def mrv2(assignment, csp):\n",
    "    pass\n",
    "```\n",
    "onde `assignment` corresponde ao assignment atual e `csp` a variável com o CSP. Teste-a neste problema usando o algoritmo `backtracking_search` com inferência `forward_checking`. Pode testar a sua função noutras formulações das aulas."
   ]
  },
  {
   "cell_type": "code",
   "execution_count": null,
   "metadata": {},
   "outputs": [],
   "source": [
    "# Resolução do exercicio\n",
    "\n"
   ]
  },
  {
   "cell_type": "code",
   "execution_count": null,
   "metadata": {},
   "outputs": [],
   "source": [
    "p = CSP(variaveis, dominios, vizinhos, different_values_constraint)\n",
    "r = backtracking_search(p, select_unassigned_variable=mrv2, inference=forward_checking, verbose=True)"
   ]
  },
  {
   "cell_type": "markdown",
   "metadata": {},
   "source": [
    "### Prazo de entrega\n",
    "\n",
    "Final do semestre, último dia de aulas às 23h59.\n",
    "\n",
    "### Submissão\n",
    "\n",
    "A informação sobre o processo de submissão sairá muito em breve."
   ]
  },
  {
   "cell_type": "code",
   "execution_count": null,
   "metadata": {},
   "outputs": [],
   "source": []
  }
 ],
 "metadata": {
  "kernelspec": {
   "display_name": "Python 3",
   "language": "python",
   "name": "python3"
  },
  "language_info": {
   "codemirror_mode": {
    "name": "ipython",
    "version": 3
   },
   "file_extension": ".py",
   "mimetype": "text/x-python",
   "name": "python",
   "nbconvert_exporter": "python",
   "pygments_lexer": "ipython3",
   "version": "3.7.7"
  }
 },
 "nbformat": 4,
 "nbformat_minor": 4
}
